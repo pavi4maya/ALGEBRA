{
 "cells": [
  {
   "cell_type": "markdown",
   "id": "a104dfee-0e66-4e61-8190-c55e7fabd60e",
   "metadata": {},
   "source": [
    "**Algebra**"
   ]
  },
  {
   "cell_type": "markdown",
   "id": "b0c387fc-ee7a-422f-9b85-00b16aa15db1",
   "metadata": {},
   "source": [
    "**Introduction**:\n",
    "    \n",
    "    Unknown values found using alphabets\n"
   ]
  },
  {
   "cell_type": "markdown",
   "id": "843ac486-84fb-4aea-8572-56bf03d0b55c",
   "metadata": {},
   "source": [
    "(e.g)  \n",
    "\n"
   ]
  },
  {
   "cell_type": "markdown",
   "id": "a12aad5d-9c78-465f-8688-041611b98ce5",
   "metadata": {},
   "source": [
    "|values|\n",
    "|-------|\n",
    "|5+2 = a|\n",
    "|7-3 = b|\n",
    "|10+c = 13|"
   ]
  },
  {
   "cell_type": "markdown",
   "id": "05f8fa73-f8ee-4232-a66c-9aae3dea7113",
   "metadata": {},
   "source": [
    "a = 7 \n",
    "b = 4\n",
    "c = 3"
   ]
  },
  {
   "cell_type": "markdown",
   "id": "1da0eb49-c313-454e-a4e1-6ad845a57df4",
   "metadata": {},
   "source": [
    "In algebra only lower case alphabets are used to find the value."
   ]
  },
  {
   "cell_type": "markdown",
   "id": "3fcfd44f-7553-497b-bf5f-9b0ce6b10767",
   "metadata": {},
   "source": [
    "|e.g|cost of a pen|no.of pens|cost|\n",
    "|---|-------------|----------|-----|\n",
    "|1|RS5|3|x|\n",
    "|2|Rs5|4|y|\n",
    "|3|Rsz|6|Rs30|"
   ]
  },
  {
   "cell_type": "markdown",
   "id": "7b13127f-032b-43a1-b343-256b2e0e7406",
   "metadata": {},
   "source": [
    "Cost of pen * no. of pen = total cost"
   ]
  },
  {
   "cell_type": "markdown",
   "id": "432eea1e-1ace-46da-ae4a-fc886c33e6bf",
   "metadata": {},
   "source": [
    "5*x = y \n",
    "* here 5 is the fixed value that do no change(constant) \n",
    "* x is the variable that keeps changing "
   ]
  },
  {
   "cell_type": "markdown",
   "id": "c24416bf-2246-450d-aa89-e149d028df49",
   "metadata": {
    "tags": []
   },
   "source": [
    "**RECTANGLE**"
   ]
  },
  {
   "cell_type": "markdown",
   "id": "5ffa32af-1f91-45a9-8751-9717f9660e16",
   "metadata": {
    "tags": []
   },
   "source": [
    "|LENGTH(cm)|BREDTH(cm)|AREA(cm*2)|\n",
    "|----------|----------|--------|\n",
    "|5cm|3cm|15cm*2|\n",
    "|6cm|(x)|12cm*2|\n",
    "|(Y)|5cm|35cm*2|"
   ]
  },
  {
   "cell_type": "markdown",
   "id": "2153142e-28ad-42be-beea-46f79ac15204",
   "metadata": {
    "tags": []
   },
   "source": [
    "* length = 6\n",
    "* breadth = x\n",
    "* area = 12 \n",
    "* x = 12/6 = 2"
   ]
  },
  {
   "cell_type": "markdown",
   "id": "fae775ba-cba3-48e1-be60-1be4dc8e2d21",
   "metadata": {
    "tags": []
   },
   "source": [
    "**EXPRESSION AND EQUATION**:"
   ]
  },
  {
   "cell_type": "markdown",
   "id": "10af08ed-ae21-40ef-b0dc-fefdfb5c4f33",
   "metadata": {},
   "source": [
    "* e.g of expression is (5+x)\n",
    "* e.g of equation is (5+x = y). when ever the (=) sign comes it is equation\n"
   ]
  },
  {
   "cell_type": "markdown",
   "id": "6ebccaf9-e3ec-4cb3-80b8-ea5ea2b78a65",
   "metadata": {
    "tags": []
   },
   "source": [
    "**CONVERSION OF STATEMENTS IN TO MATHAMATICAL EXPRESSIONS**"
   ]
  },
  {
   "cell_type": "markdown",
   "id": "781e79f8-43a5-4903-8c89-0cc82b6caf1e",
   "metadata": {
    "tags": []
   },
   "source": [
    "* ADDITION:\n",
    "\n",
    "* 1.The sum of.\n",
    "* 2.added to.\n",
    "* 3.more than.\n",
    "* 4.increased by."
   ]
  },
  {
   "cell_type": "markdown",
   "id": "e1e275ce-a00e-4243-b7cf-ec6c9e96bbf3",
   "metadata": {},
   "source": [
    "*SUBSTRACTION:\n",
    "\n",
    "    * 1.The difference between.\n",
    "    * 2.subtracted or seperated from.\n",
    "    * 3.less than.\n",
    "    * 4.decreased by.\n",
    "    * 5.reducedd by."
   ]
  },
  {
   "cell_type": "markdown",
   "id": "5aa4a3e7-b343-4a12-a790-0ae593a8cbe4",
   "metadata": {},
   "source": [
    "*MULTIPLICATION:\n",
    "\n",
    "* 1.The product of.\n",
    "* 2.Multiply by.\n",
    "* 3.Times.\n",
    "* 4.Twice, Double or Thrice.\n"
   ]
  },
  {
   "cell_type": "markdown",
   "id": "e5622354-6f70-4ccd-be3a-25625faf879b",
   "metadata": {},
   "source": [
    "*DIVISION:\n",
    "    \n",
    "* 1.Divided by.\n",
    "* 2.Out of."
   ]
  },
  {
   "cell_type": "markdown",
   "id": "ce105f0f-1e49-422d-a965-e76426598dfa",
   "metadata": {
    "tags": []
   },
   "source": [
    "**TERMS IN ALGEBRA**"
   ]
  },
  {
   "cell_type": "markdown",
   "id": "bf7c892e-9b07-45d6-9597-98ef41ea89ed",
   "metadata": {},
   "source": [
    "EXPRESSION: Combination of variables and constant using mathematical operations like addition and subtraction is called as algebrical expression.\n",
    "\n",
    "(e.g) x+y+2xy-2+8y"
   ]
  },
  {
   "cell_type": "markdown",
   "id": "2ca8edaf-d3e6-42cc-8464-3c9b327e9662",
   "metadata": {},
   "source": [
    "TERMS: x^2 + 2xy + y^3 - 3xab\n",
    " * here the total terms are 4\n",
    " \n"
   ]
  },
  {
   "cell_type": "markdown",
   "id": "3e25699b-93ec-47a4-aa56-374a86789065",
   "metadata": {},
   "source": [
    "TYPES OF EXPRESSION BASED ON TERM:"
   ]
  },
  {
   "cell_type": "markdown",
   "id": "778e40ef-7ec3-43c8-a586-0c9dd2efe6aa",
   "metadata": {},
   "source": [
    "MONOMIAL EXPRESSION:\n",
    "    \n",
    "    * e.g 3abc/5 as it is a single term"
   ]
  },
  {
   "cell_type": "markdown",
   "id": "99ada7fa-19a8-4d19-85e3-ee4245d71dc2",
   "metadata": {},
   "source": [
    "BINOMIAL EXPRESSION:"
   ]
  },
  {
   "cell_type": "markdown",
   "id": "be99015e-2a8e-4c6a-b5b4-269cc13b3a6a",
   "metadata": {},
   "source": [
    "* e.g 3x^2y + 5 as it has two terms "
   ]
  },
  {
   "cell_type": "markdown",
   "id": "239a9915-78fb-4d7d-b996-78a7faa43011",
   "metadata": {},
   "source": [
    "TRINOMIAL EXPRESSION:"
   ]
  },
  {
   "cell_type": "markdown",
   "id": "b0596744-5b0b-4805-9ff0-2cce9df9b71c",
   "metadata": {},
   "source": [
    "* e.g -7e+g/h - 5 - 3abc as it has three terms."
   ]
  },
  {
   "cell_type": "markdown",
   "id": "c283990d-b21d-4b29-a387-57468cbf1231",
   "metadata": {
    "tags": []
   },
   "source": [
    "POLYNOMIAL EXPRESSION:"
   ]
  },
  {
   "cell_type": "markdown",
   "id": "01d4c91f-2e38-40f4-a5a9-84f02a94567c",
   "metadata": {},
   "source": [
    "8xy - yz - zx - abc + 7 as it has more than three terms."
   ]
  },
  {
   "cell_type": "markdown",
   "id": "9f07d85c-1337-4a6a-86b6-817404424c08",
   "metadata": {},
   "source": [
    "**CO-EFFICIENT OF A TERM**:"
   ]
  },
  {
   "cell_type": "markdown",
   "id": "b73b961e-0d74-4997-a766-f4ab8b661a94",
   "metadata": {},
   "source": [
    "-4xyz it is a single term\n",
    "* 1. numweic co-efficient is -4.\n",
    "* 2. co-efficient of x is -4yz.\n",
    "* 3. co-efficient of y is -4xz.\n",
    "* 4. co-efficient of z is -4xy."
   ]
  },
  {
   "cell_type": "markdown",
   "id": "9bb3512b-6ffd-4fa3-8dfd-7ff5402146cc",
   "metadata": {},
   "source": [
    "**LIKE TERMS AND UNLIKE TERMS** :"
   ]
  },
  {
   "cell_type": "markdown",
   "id": "35c263cc-5cf2-486a-9a8a-5448d13bd966",
   "metadata": {},
   "source": [
    "We name the terms with the variabes and if the terms are same they are called as like terms and if they are not same they belong to unlike terms."
   ]
  },
  {
   "cell_type": "markdown",
   "id": "529533ab-2ab4-4eb2-bfba-96534654a4b5",
   "metadata": {
    "tags": []
   },
   "source": [
    "e.g \n",
    "\n",
    "* 1.-7xy & 5xy are the like terms. \n",
    "* 2.3xy and 3ab are the unlike terms."
   ]
  },
  {
   "cell_type": "markdown",
   "id": "58e3ed07-e421-4271-bafa-331166af0c80",
   "metadata": {
    "tags": []
   },
   "source": [
    "Numbers can be different but terms should be same for the like terms."
   ]
  },
  {
   "cell_type": "markdown",
   "id": "755c587a-0505-4fad-8f84-1ad3f957a527",
   "metadata": {},
   "source": [
    "**DEGREE OF EXPRESSION**:"
   ]
  },
  {
   "cell_type": "markdown",
   "id": "dc5019b5-2ab9-4e80-b96d-96112309f365",
   "metadata": {},
   "source": [
    "(e.g) \n",
    "\n",
    "* 7x^2 + 3x + 2 "
   ]
  },
  {
   "cell_type": "markdown",
   "id": "16cf4da8-f976-46d3-8f7f-864dfd05d79c",
   "metadata": {},
   "source": [
    "check the power of variables for each terms. the highest power is degree of variables."
   ]
  },
  {
   "cell_type": "markdown",
   "id": "6d4600ab-8221-4922-9f32-19631cf414d7",
   "metadata": {},
   "source": [
    "* first term => 7x^2 => power of x is 2.\n",
    "* second term => 3x => power of x is 1.\n",
    "* third term => 2 => it is a constant term so it is zero.\n",
    " \n",
    "    Highest power in this equation is zero . so the degree of equation is 2."
   ]
  },
  {
   "cell_type": "code",
   "execution_count": null,
   "id": "a295971e-8be6-4cd0-848b-e6d729486448",
   "metadata": {},
   "outputs": [],
   "source": []
  }
 ],
 "metadata": {
  "kernelspec": {
   "display_name": "Python",
   "language": "python",
   "name": "conda-env-python-py"
  },
  "language_info": {
   "codemirror_mode": {
    "name": "ipython",
    "version": 3
   },
   "file_extension": ".py",
   "mimetype": "text/x-python",
   "name": "python",
   "nbconvert_exporter": "python",
   "pygments_lexer": "ipython3",
   "version": "3.7.12"
  }
 },
 "nbformat": 4,
 "nbformat_minor": 5
}
